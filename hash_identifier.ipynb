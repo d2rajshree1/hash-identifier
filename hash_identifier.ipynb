{
  "nbformat": 4,
  "nbformat_minor": 0,
  "metadata": {
    "colab": {
      "provenance": [],
      "authorship_tag": "ABX9TyPA2CgleKrGAEg8Z8aA59uE",
      "include_colab_link": true
    },
    "kernelspec": {
      "name": "python3",
      "display_name": "Python 3"
    },
    "language_info": {
      "name": "python"
    }
  },
  "cells": [
    {
      "cell_type": "markdown",
      "metadata": {
        "id": "view-in-github",
        "colab_type": "text"
      },
      "source": [
        "<a href=\"https://colab.research.google.com/github/d2rajshree1/hash-identifier/blob/main/hash_identifier.ipynb\" target=\"_parent\"><img src=\"https://colab.research.google.com/assets/colab-badge.svg\" alt=\"Open In Colab\"/></a>"
      ]
    },
    {
      "cell_type": "code",
      "source": [
        "def identify_hash(hash_string):\n",
        "    length = len(hash_string)\n",
        "\n",
        "    if length == 32:\n",
        "        return \"Possibly MD5\"\n",
        "    elif length == 40:\n",
        "        return \"Possibly SHA-1\"\n",
        "    elif length == 64:\n",
        "        return \"Possibly SHA-256\"\n",
        "    elif length == 128:\n",
        "        return \"Possibly SHA-512\"\n",
        "    else:\n",
        "        return \"Unknown or uncommon hash\"\n",
        "\n",
        "# Input from user\n",
        "hash_input = input(\"Enter the hash string: \").strip()\n",
        "result = identify_hash(hash_input)\n",
        "print(f\"Identified as: {result}\")"
      ],
      "metadata": {
        "colab": {
          "base_uri": "https://localhost:8080/"
        },
        "id": "3sMwLFcbH8mA",
        "outputId": "ab05dd2b-c68e-44f6-b375-d4bb4369ca15"
      },
      "execution_count": null,
      "outputs": [
        {
          "output_type": "stream",
          "name": "stdout",
          "text": [
            "Enter the hash string: 5d41402abc4b2a76b9719d911017c592\n",
            "Identified as: Possibly MD5\n"
          ]
        }
      ]
    }
  ]
}